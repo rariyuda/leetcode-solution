{
 "cells": [
  {
   "cell_type": "markdown",
   "metadata": {},
   "source": [
    "### Question 189\n",
    "\n",
    "Given an integer array nums, rotate the array to the right by k steps, where k is non-negative.\n",
    "\n",
    " \n",
    "\n",
    "#### Example 1:\n",
    "```python\n",
    "Input: nums = [1,2,3,4,5,6,7], k = 3\n",
    "Output: [5,6,7,1,2,3,4]\n",
    "Explanation:\n",
    "rotate 1 steps to the right: [7,1,2,3,4,5,6]\n",
    "rotate 2 steps to the right: [6,7,1,2,3,4,5]\n",
    "rotate 3 steps to the right: [5,6,7,1,2,3,4]\n",
    "```\n",
    "#### Example 2:\n",
    "\n",
    "```python\n",
    "Input: nums = [-1,-100,3,99], k = 2\n",
    "Output: [3,99,-1,-100]\n",
    "Explanation: \n",
    "rotate 1 steps to the right: [99,-1,-100,3]\n",
    "rotate 2 steps to the right: [3,99,-1,-100]\n",
    "```"
   ]
  },
  {
   "cell_type": "markdown",
   "metadata": {},
   "source": [
    "### Problem Analysis\n",
    "\n",
    "**Task:** Rotate an integer array to the right by a given number of steps (`k`).\n",
    "\n",
    "- The input consists of an integer array `nums` and a non-negative integer `k`.\n",
    "- The goal is to rotate the array to the right by `k` steps.\n",
    "\n",
    "**Approach:**\n",
    "- We need to perform the rotation in-place without using any extra space.\n",
    "- Considerations: \n",
    "  - If `k` is greater than the length of the array, it's equivalent to rotating by `k % len(nums)` steps.\n",
    "  - The array is rotated to the right, so the last `k` elements will move to the front.\n",
    "- We can achieve the rotation by reversing specific portions of the array.\n",
    "  - Reverse the entire array.\n",
    "  - Reverse the first `k` elements.\n",
    "  - Reverse the remaining `len(nums) - k` elements.\n",
    "\n",
    "**Pseudocode:**\n",
    "1. Reverse the entire array.\n",
    "2. Reverse the first `k` elements.\n",
    "3. Reverse the remaining `len(nums) - k` elements."
   ]
  }
 ],
 "metadata": {
  "language_info": {
   "name": "python"
  }
 },
 "nbformat": 4,
 "nbformat_minor": 2
}
