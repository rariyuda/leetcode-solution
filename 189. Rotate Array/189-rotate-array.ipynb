{
 "cells": [
  {
   "cell_type": "markdown",
   "metadata": {},
   "source": [
    "### Question 189\n",
    "(https://leetcode.com/problems/rotate-array/?envType=study-plan-v2&envId=top-interview-150)<br>\n",
    "\n",
    "Given an integer array nums, rotate the array to the right by k steps, where k is non-negative.\n",
    "\n",
    " \n",
    "\n",
    "#### Example 1:\n",
    "```python\n",
    "Input: nums = [1,2,3,4,5,6,7], k = 3\n",
    "Output: [5,6,7,1,2,3,4]\n",
    "Explanation:\n",
    "rotate 1 steps to the right: [7,1,2,3,4,5,6]\n",
    "rotate 2 steps to the right: [6,7,1,2,3,4,5]\n",
    "rotate 3 steps to the right: [5,6,7,1,2,3,4]\n",
    "```\n",
    "#### Example 2:\n",
    "\n",
    "```python\n",
    "Input: nums = [-1,-100,3,99], k = 2\n",
    "Output: [3,99,-1,-100]\n",
    "Explanation: \n",
    "rotate 1 steps to the right: [99,-1,-100,3]\n",
    "rotate 2 steps to the right: [3,99,-1,-100]\n",
    "```"
   ]
  },
  {
   "cell_type": "markdown",
   "metadata": {},
   "source": [
    "### Problem Analysis\n",
    "\n",
    "**Task:** Rotate an integer array to the right by a given number of steps (`k`).\n",
    "\n",
    "- The input consists of an integer array `nums` and a non-negative integer `k`.\n",
    "- The goal is to rotate the array to the right by `k` steps.\n",
    "\n",
    "**Approach:**\n",
    "- We need to perform the rotation in-place without using any extra space.\n",
    "- Considerations: \n",
    "  - If `k` is greater than the length of the array, it's equivalent to rotating by `k % len(nums)` steps.\n",
    "  - The array is rotated to the right, so the last `k` elements will move to the front.\n",
    "- We can achieve the rotation by reversing specific portions of the array.\n",
    "  - Reverse the entire array.\n",
    "  - Reverse the first `k` elements.\n",
    "  - Reverse the remaining `len(nums) - k` elements."
   ]
  },
  {
   "cell_type": "code",
   "execution_count": 11,
   "metadata": {},
   "outputs": [],
   "source": [
    "from typing import List\n",
    "class Solution:\n",
    "    def rotate(self, nums: List[int], k: int) -> None:\n",
    "        k %= len(nums)\n",
    "        nums[:] = nums[-k:] + nums[:-k]"
   ]
  },
  {
   "cell_type": "code",
   "execution_count": 12,
   "metadata": {},
   "outputs": [],
   "source": [
    "def test():\n",
    "    nums = [1,2,3,4,5,6,7]\n",
    "    k = 3\n",
    "\n",
    "    solution = Solution()\n",
    "    print(nums,\" k=\",k)\n",
    "    solution.rotate(nums, k)\n",
    "    print(nums)"
   ]
  },
  {
   "cell_type": "code",
   "execution_count": 13,
   "metadata": {},
   "outputs": [
    {
     "name": "stdout",
     "output_type": "stream",
     "text": [
      "[1, 2, 3, 4, 5, 6, 7]  k= 3\n",
      "[5, 6, 7, 1, 2, 3, 4]\n"
     ]
    }
   ],
   "source": [
    "test()"
   ]
  },
  {
   "cell_type": "markdown",
   "metadata": {},
   "source": [
    "### Discussion\n",
    "\n",
    "The provided code implements a concise and efficient solution to the problem of rotating an integer array `nums` to the right by a given number of steps `k`. The solution is performed in-place without utilizing any extra space.\n",
    "\n",
    "#### Key Steps:\n",
    "\n",
    "1. **Adjustment for Large k:**\n",
    "   - The code first ensures that `k` is adjusted to be within the bounds of the array length by taking the modulus (`k %= len(nums)`). This is done to handle cases where `k` is greater than the length of the array.\n",
    "\n",
    "\n",
    "2. **Rotation Logic:**\n",
    "   - The array rotation is achieved by concatenating two sliced portions of the array.\n",
    "   - `nums[-k:]` represents the last `k` elements of the array.\n",
    "   - `nums[:-k]` represents the remaining elements excluding the last `k`.\n",
    "   - Concatenating these slices effectively places the last `k` elements at the front, achieving the desired rotation.\n",
    "\n",
    "\n",
    "3. **In-Place Modification:**\n",
    "   - The use of `nums[:]` ensures that the original array is modified in place. The slicing and concatenation result in the updated array being assigned back to the original array reference.\n",
    "\n",
    "#### Example:\n",
    "   - For instance, with `nums = [1, 2, 3, 4, 5, 6, 7]` and `k = 3`, the adjusted `k` is 3.\n",
    "   - The concatenation `nums[-3:] + nums[:-3]` results in `[5, 6, 7, 1, 2, 3, 4]`, achieving the required right rotation by 3 steps."
   ]
  }
 ],
 "metadata": {
  "kernelspec": {
   "display_name": "Python 3",
   "language": "python",
   "name": "python3"
  },
  "language_info": {
   "codemirror_mode": {
    "name": "ipython",
    "version": 3
   },
   "file_extension": ".py",
   "mimetype": "text/x-python",
   "name": "python",
   "nbconvert_exporter": "python",
   "pygments_lexer": "ipython3",
   "version": "3.10.5"
  }
 },
 "nbformat": 4,
 "nbformat_minor": 2
}
