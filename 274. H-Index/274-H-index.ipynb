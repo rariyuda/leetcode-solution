{
 "cells": [
  {
   "cell_type": "markdown",
   "metadata": {},
   "source": [
    "### Question 274\n",
    "(https://leetcode.com/problems/h-index/?envType=study-plan-v2&envId=top-interview-150)<br>\n",
    "\n",
    "Given an array of integers citations where citations[i] is the number of citations a researcher received for their i-th paper, return the researcher's h-index.\n",
    "\n",
    "According to the definition of h-index on Wikipedia: The h-index is defined as the maximum value of h such that the given researcher has published at least h papers that have each been cited at least h times.\n",
    "\n",
    " \n",
    "\n",
    "#### Example 1:\n",
    "```python\n",
    "Input: citations = [3,0,6,1,5]\n",
    "Output: 3\n",
    "Explanation: [3,0,6,1,5] means the researcher has 5 papers in total and each of them had received 3, 0, 6, 1, 5 citations respectively.\n",
    "Since the researcher has 3 papers with at least 3 citations each and the remaining two with no more than 3 citations each, their h-index is 3.\n",
    "```\n",
    "#### Example 2:\n",
    "\n",
    "```python\n",
    "Input: citations = [1,3,1]\n",
    "Output: 1\n",
    "```"
   ]
  },
  {
   "cell_type": "markdown",
   "metadata": {},
   "source": [
    "### Problem Analysis\n",
    "\n",
    "**Task:** Calculate the h-index of a researcher given the array of citations.\n",
    "\n",
    "- The input consists of an array `citations` where `citations[i]` represents the number of citations for the i-th paper.\n",
    "- The goal is to find the h-index of the researcher.\n",
    "\n",
    "**Approach:**\n",
    "- Sort the `citations` array in non-decreasing order.\n",
    "- Iterate through the sorted array and find the maximum value of `h` such that `citations[i]` is greater than or equal to `h` for at least `h` papers.\n",
    "- Return the maximum `h` found."
   ]
  },
  {
   "cell_type": "code",
   "execution_count": 9,
   "metadata": {},
   "outputs": [],
   "source": [
    "from typing import List\n",
    "class Solution:\n",
    "    def hIndex(self, citations: List[int]) -> int:\n",
    "        # Sort the array in non-decreasing order\n",
    "        citations.sort(reverse=True)\n",
    "        \n",
    "        # Iterate through the sorted array to find the h-index\n",
    "        h = 0\n",
    "        for i in range(len(citations)):\n",
    "            if citations[i] >= h + 1:\n",
    "                h += 1\n",
    "            else:\n",
    "                break\n",
    "        \n",
    "        return h"
   ]
  },
  {
   "cell_type": "code",
   "execution_count": 14,
   "metadata": {},
   "outputs": [],
   "source": [
    "def test():\n",
    "    nums = [3,0,6,1,5]\n",
    "\n",
    "    solution = Solution()\n",
    "    print(nums)\n",
    "    res=solution.hIndex(nums)\n",
    "    print(res)"
   ]
  },
  {
   "cell_type": "code",
   "execution_count": 15,
   "metadata": {},
   "outputs": [
    {
     "name": "stdout",
     "output_type": "stream",
     "text": [
      "[3, 0, 6, 1, 5]\n",
      "3\n"
     ]
    }
   ],
   "source": [
    "test()"
   ]
  },
  {
   "cell_type": "markdown",
   "metadata": {},
   "source": [
    "### Discussion\n",
    "\n",
    "The provided code implements a concise and efficient solution to the problem of rotating an integer array `nums` to the right by a given number of steps `k`. The solution is performed in-place without utilizing any extra space.\n",
    "\n",
    "#### Key Steps:\n",
    "\n",
    "1. **Adjustment for Large k:**\n",
    "   - The code first ensures that `k` is adjusted to be within the bounds of the array length by taking the modulus (`k %= len(nums)`). This is done to handle cases where `k` is greater than the length of the array.\n",
    "\n",
    "\n",
    "2. **Rotation Logic:**\n",
    "   - The array rotation is achieved by concatenating two sliced portions of the array.\n",
    "   - `nums[-k:]` represents the last `k` elements of the array.\n",
    "   - `nums[:-k]` represents the remaining elements excluding the last `k`.\n",
    "   - Concatenating these slices effectively places the last `k` elements at the front, achieving the desired rotation.\n",
    "\n",
    "\n",
    "3. **In-Place Modification:**\n",
    "   - The use of `nums[:]` ensures that the original array is modified in place. The slicing and concatenation result in the updated array being assigned back to the original array reference.\n",
    "\n",
    "#### Example:\n",
    "   - For instance, with `nums = [1, 2, 3, 4, 5, 6, 7]` and `k = 3`, the adjusted `k` is 3.\n",
    "   - The concatenation `nums[-3:] + nums[:-3]` results in `[5, 6, 7, 1, 2, 3, 4]`, achieving the required right rotation by 3 steps."
   ]
  }
 ],
 "metadata": {
  "kernelspec": {
   "display_name": "Python 3",
   "language": "python",
   "name": "python3"
  },
  "language_info": {
   "codemirror_mode": {
    "name": "ipython",
    "version": 3
   },
   "file_extension": ".py",
   "mimetype": "text/x-python",
   "name": "python",
   "nbconvert_exporter": "python",
   "pygments_lexer": "ipython3",
   "version": "3.10.5"
  }
 },
 "nbformat": 4,
 "nbformat_minor": 2
}
