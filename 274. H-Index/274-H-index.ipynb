{
 "cells": [
  {
   "cell_type": "markdown",
   "metadata": {},
   "source": [
    "### Question 274\n",
    "(https://leetcode.com/problems/h-index/?envType=study-plan-v2&envId=top-interview-150)<br>\n",
    "\n",
    "Given an array of integers citations where citations[i] is the number of citations a researcher received for their i-th paper, return the researcher's h-index.\n",
    "\n",
    "According to the definition of h-index on Wikipedia: The h-index is defined as the maximum value of h such that the given researcher has published at least h papers that have each been cited at least h times.\n",
    "\n",
    " \n",
    "\n",
    "#### Example 1:\n",
    "```python\n",
    "Input: citations = [3,0,6,1,5]\n",
    "Output: 3\n",
    "Explanation: [3,0,6,1,5] means the researcher has 5 papers in total and each of them had received 3, 0, 6, 1, 5 citations respectively.\n",
    "Since the researcher has 3 papers with at least 3 citations each and the remaining two with no more than 3 citations each, their h-index is 3.\n",
    "```\n",
    "#### Example 2:\n",
    "\n",
    "```python\n",
    "Input: citations = [1,3,1]\n",
    "Output: 1\n",
    "```"
   ]
  },
  {
   "cell_type": "markdown",
   "metadata": {},
   "source": [
    "### Problem Analysis\n",
    "\n",
    "**Task:** Calculate the h-index of a researcher given the array of citations.\n",
    "\n",
    "- The input consists of an array `citations` where `citations[i]` represents the number of citations for the i-th paper.\n",
    "- The goal is to find the h-index of the researcher.\n",
    "\n",
    "**Approach:**\n",
    "- Sort the `citations` array in non-decreasing order.\n",
    "- Iterate through the sorted array and find the maximum value of `h` such that `citations[i]` is greater than or equal to `h` for at least `h` papers.\n",
    "- Return the maximum `h` found."
   ]
  }
 ],
 "metadata": {
  "kernelspec": {
   "display_name": "Python 3",
   "language": "python",
   "name": "python3"
  },
  "language_info": {
   "codemirror_mode": {
    "name": "ipython",
    "version": 3
   },
   "file_extension": ".py",
   "mimetype": "text/x-python",
   "name": "python",
   "nbconvert_exporter": "python",
   "pygments_lexer": "ipython3",
   "version": "3.10.5"
  }
 },
 "nbformat": 4,
 "nbformat_minor": 2
}
