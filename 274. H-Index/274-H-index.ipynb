{
 "cells": [
  {
   "cell_type": "markdown",
   "metadata": {},
   "source": [
    "### Question 274\n",
    "(https://leetcode.com/problems/h-index/?envType=study-plan-v2&envId=top-interview-150)<br>\n",
    "\n",
    "Given an array of integers citations where citations[i] is the number of citations a researcher received for their i-th paper, return the researcher's h-index.\n",
    "\n",
    "According to the definition of h-index on Wikipedia: The h-index is defined as the maximum value of h such that the given researcher has published at least h papers that have each been cited at least h times.\n",
    "\n",
    " \n",
    "\n",
    "#### Example 1:\n",
    "```python\n",
    "Input: citations = [3,0,6,1,5]\n",
    "Output: 3\n",
    "Explanation: [3,0,6,1,5] means the researcher has 5 papers in total and each of them had received 3, 0, 6, 1, 5 citations respectively.\n",
    "Since the researcher has 3 papers with at least 3 citations each and the remaining two with no more than 3 citations each, their h-index is 3.\n",
    "```\n",
    "#### Example 2:\n",
    "\n",
    "```python\n",
    "Input: citations = [1,3,1]\n",
    "Output: 1\n",
    "```"
   ]
  },
  {
   "cell_type": "markdown",
   "metadata": {},
   "source": [
    "### Problem Analysis\n",
    "\n",
    "**Task:** Calculate the h-index of a researcher given the array of citations.\n",
    "\n",
    "- The input consists of an array `citations` where `citations[i]` represents the number of citations for the i-th paper.\n",
    "- The goal is to find the h-index of the researcher.\n",
    "\n",
    "**Approach:**\n",
    "- Sort the `citations` array in non-decreasing order.\n",
    "- Iterate through the sorted array and find the maximum value of `h` such that `citations[i]` is greater than or equal to `h` for at least `h` papers.\n",
    "- Return the maximum `h` found."
   ]
  },
  {
   "cell_type": "code",
   "execution_count": 9,
   "metadata": {},
   "outputs": [],
   "source": [
    "from typing import List\n",
    "class Solution:\n",
    "    def hIndex(self, citations: List[int]) -> int:\n",
    "        # Sort the array in non-decreasing order\n",
    "        citations.sort(reverse=True)\n",
    "        \n",
    "        # Iterate through the sorted array to find the h-index\n",
    "        h = 0\n",
    "        for i in range(len(citations)):\n",
    "            if citations[i] >= h + 1:\n",
    "                h += 1\n",
    "            else:\n",
    "                break\n",
    "        \n",
    "        return h"
   ]
  },
  {
   "cell_type": "code",
   "execution_count": 14,
   "metadata": {},
   "outputs": [],
   "source": [
    "def test():\n",
    "    nums = [3,0,6,1,5]\n",
    "\n",
    "    solution = Solution()\n",
    "    print(nums)\n",
    "    res=solution.hIndex(nums)\n",
    "    print(res)"
   ]
  },
  {
   "cell_type": "code",
   "execution_count": 15,
   "metadata": {},
   "outputs": [
    {
     "name": "stdout",
     "output_type": "stream",
     "text": [
      "[3, 0, 6, 1, 5]\n",
      "3\n"
     ]
    }
   ],
   "source": [
    "test()"
   ]
  },
  {
   "cell_type": "markdown",
   "metadata": {},
   "source": [
    "### Discussion\n",
    "\n",
    "The code provides a straightforward and efficient solution to the problem of determining the h-index of a researcher based on their array of citations.\n",
    "\n",
    "#### Key Steps:\n",
    "\n",
    "1. **Sorting:**\n",
    "   - The citations array is first sorted in descending order. This is crucial because it allows us to easily identify the h-index during the iteration process. Sorting helps in quickly identifying papers with higher citation counts.\n",
    "\n",
    "2. **Iterative Search:**\n",
    "   - The code then goes through the sorted array, checking if the number of citations for a paper is greater than or equal to the potential h-index (represented by `h + 1`). If it is, the h-index is incremented. This process continues until a point where the condition is not met, indicating the maximum h-index.\n",
    "\n",
    "3. **Return Result:**\n",
    "   - Finally, the function returns the determined h-index as the result.\n",
    "\n",
    "#### Example:\n",
    "   - Taking an example with `citations = [3, 0, 6, 1, 5]`, after sorting, the array becomes `[6, 5, 3, 1, 0]`. The iteration finds that the researcher has at least `3` papers with `3` or more citations each, resulting in an h-index of `3`."
   ]
  }
 ],
 "metadata": {
  "kernelspec": {
   "display_name": "Python 3",
   "language": "python",
   "name": "python3"
  },
  "language_info": {
   "codemirror_mode": {
    "name": "ipython",
    "version": 3
   },
   "file_extension": ".py",
   "mimetype": "text/x-python",
   "name": "python",
   "nbconvert_exporter": "python",
   "pygments_lexer": "ipython3",
   "version": "3.10.5"
  }
 },
 "nbformat": 4,
 "nbformat_minor": 2
}
