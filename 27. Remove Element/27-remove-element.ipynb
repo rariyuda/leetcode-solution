{
 "cells": [
  {
   "cell_type": "markdown",
   "metadata": {},
   "source": [
    "### Question 27\n",
    "(https://leetcode.com/problems/remove-element/?envType=study-plan-v2&envId=top-interview-150)\n",
    " \n",
    " Given an integer array nums and an integer val, remove all occurrences of val in nums in-place. The order of the elements may be changed. Then return the number of elements in nums which are not equal to val.<br>\n",
    "\n",
    "Consider the number of elements in nums which are not equal to val be k, to get accepted, you need to do the following things:<br>\n",
    "\n",
    "- Change the array nums such that the first k elements of nums contain the elements which are not equal to val. The remaining elements of nums are not important as well as the size of nums.\n",
    "- Return k.\n"
   ]
  },
  {
   "cell_type": "markdown",
   "metadata": {},
   "source": [
    "##### Example 1\n",
    "```python\n",
    "Input: nums = [3,2,2,3], val = 3\n",
    "Output: 2, nums = [2,2,x,x]\n",
    "```\n",
    "Explanation: Your function should return k = 2, with the first two elements of nums being 2.<br>\n",
    "It does not matter what you leave beyond the returned k (hence they are Xs).\n",
    "\n",
    "#### Example 2\n",
    "```python\n",
    "Input: nums = [0,1,2,2,3,0,4,2], val = 2\n",
    "Output: 5, nums = [0,1,4,0,3,x,x,x]\n",
    "```\n",
    "Explanation: Your function should return k = 5, with the first five elements of nums containing 0, 0, 1, 3, and 4.<br>\n",
    "Note that the five elements can be returned in any order."
   ]
  },
  {
   "cell_type": "markdown",
   "metadata": {},
   "source": [
    "#### Problem Analysis\n",
    "Task: Remove **val** from **nums<br>**\n",
    "    We don't need to actually take out the value from the nums array.<br> \n",
    "    Instead, we can move that value to the end of the array.<br> \n",
    "    This works because the function only returns a specific number of elements (denoted as 'k'), and that number corresponds to the exact count of elements after the removal."
   ]
  },
  {
   "cell_type": "markdown",
   "metadata": {},
   "source": [
    "#### Initialization\n",
    "- pos_left: Represents the leftmost position in the nums array. It is responsible for comparing the elements of nums with the target value val.\n",
    "- pos_right: Represents the rightmost position in the nums array. It is responsible for managing the swapping of the element at pos_left with the element at pos_right if the element at pos_left is equal to the target value val. This process aids in removing occurrences of val from the array."
   ]
  },
  {
   "cell_type": "code",
   "execution_count": null,
   "metadata": {},
   "outputs": [],
   "source": [
    "from typing import List\n",
    "\n",
    "class Solution:\n",
    "    def removeElement(self, nums: List[int], val: int) -> int:\n",
    "        pos_left, pos_right = 0, len(nums)-1"
   ]
  }
 ],
 "metadata": {
  "language_info": {
   "name": "python"
  }
 },
 "nbformat": 4,
 "nbformat_minor": 2
}
