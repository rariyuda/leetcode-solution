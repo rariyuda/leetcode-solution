{
 "cells": [
  {
   "cell_type": "markdown",
   "metadata": {},
   "source": [
    "### Question 27\n",
    "(https://leetcode.com/problems/remove-element/?envType=study-plan-v2&envId=top-interview-150)\n",
    " \n",
    " Given an integer array nums and an integer val, remove all occurrences of val in nums in-place. The order of the elements may be changed. Then return the number of elements in nums which are not equal to val.<br>\n",
    "\n",
    "Consider the number of elements in nums which are not equal to val be k, to get accepted, you need to do the following things:<br>\n",
    "\n",
    "- Change the array nums such that the first k elements of nums contain the elements which are not equal to val. The remaining elements of nums are not important as well as the size of nums.\n",
    "- Return k.\n"
   ]
  },
  {
   "cell_type": "markdown",
   "metadata": {},
   "source": [
    "##### Example 1\n",
    "```python\n",
    "Input: nums = [3,2,2,3], val = 3\n",
    "Output: 2, nums = [2,2,x,x]\n",
    "```\n",
    "Explanation: Your function should return k = 2, with the first two elements of nums being 2.<br>\n",
    "It does not matter what you leave beyond the returned k (hence they are Xs).\n",
    "\n",
    "#### Example 2\n",
    "```python\n",
    "Input: nums = [0,1,2,2,3,0,4,2], val = 2\n",
    "Output: 5, nums = [0,1,4,0,3,x,x,x]\n",
    "```\n",
    "Explanation: Your function should return k = 5, with the first five elements of nums containing 0, 0, 1, 3, and 4.<br>\n",
    "Note that the five elements can be returned in any order."
   ]
  },
  {
   "cell_type": "markdown",
   "metadata": {},
   "source": [
    "#### Problem Analysis\n",
    "Task: Remove **val** from **nums<br>**\n",
    "    We don't need to actually take out the value from the nums array.<br> \n",
    "    Instead, we can move that value to the end of the array.<br> \n",
    "    This works because the function only returns a specific number of elements (denoted as 'k'), and that number corresponds to the exact count of elements after the removal."
   ]
  },
  {
   "cell_type": "markdown",
   "metadata": {},
   "source": [
    "#### Initialization\n",
    "- pos_left: Represents the leftmost position in the nums array. It is responsible for comparing the elements of nums with the target value val.\n",
    "- pos_right: Represents the rightmost position in the nums array. It is responsible for managing the swapping of the element at pos_left with the element at pos_right if the element at pos_left is equal to the target value val. This process aids in removing occurrences of val from the array."
   ]
  },
  {
   "cell_type": "code",
   "execution_count": 1,
   "metadata": {},
   "outputs": [],
   "source": [
    "from typing import List\n",
    "class Solution:\n",
    "    def removeElement(self, nums: List[int], val: int) -> int:\n",
    "        pos_left, pos_right = 0, len(nums)-1\n",
    "        "
   ]
  },
  {
   "cell_type": "code",
   "execution_count": 9,
   "metadata": {},
   "outputs": [],
   "source": [
    "def test():\n",
    "    k = 5\n",
    "    solution = Solution()\n",
    "    nums = [0,1,2,2,3,0,4,2] \n",
    "    val = 2\n",
    "\n",
    "    solution.removeElement(nums, val)\n",
    "    print(nums[:k])"
   ]
  },
  {
   "cell_type": "markdown",
   "metadata": {},
   "source": [
    "#### Code Flow\n",
    "\n",
    "1. **Condition Check** (while(pos_left <= pos_right)): This loop continues as long as the left position (pos_left) is less than or equal to the right position (pos_right), ensuring that the elements in the array are properly compared and processed.\n",
    "\n",
    "2. **Comparison Check** (if nums[pos_left] == val): Checks if the element at the current left position (pos_left) in the array nums is equal to the target value val.\n",
    "\n",
    "3. **Swapping** (nums[pos_left], nums[pos_right] = nums[pos_right], nums[pos_left]): If the condition in step 2 is true, it swaps the element at the left position (pos_left) with the element at the right position (pos_right). This way, the element at the right position is effectively moved to the left position, and vice versa."
   ]
  },
  {
   "cell_type": "code",
   "execution_count": 11,
   "metadata": {},
   "outputs": [],
   "source": [
    "class Solution:\n",
    "    def removeElement(self, nums: List[int], val: int) -> int:\n",
    "        pos_left, pos_right = 0, len(nums) - 1\n",
    "        while pos_left <= pos_right:\n",
    "            if nums[pos_left] == val:\n",
    "                nums[pos_left], nums[pos_right] = nums[pos_right], nums[pos_left]\n",
    "                pos_right -= 1\n",
    "            else:\n",
    "                pos_left += 1"
   ]
  },
  {
   "cell_type": "code",
   "execution_count": 12,
   "metadata": {},
   "outputs": [
    {
     "name": "stdout",
     "output_type": "stream",
     "text": [
      "[0, 1, 4, 0, 3]\n"
     ]
    }
   ],
   "source": [
    "test()"
   ]
  },
  {
   "cell_type": "markdown",
   "metadata": {},
   "source": [
    "#### Discussion\n",
    "\n",
    "The method employed in this code is known as the \"Two-pointer swapping\" technique. This approach utilizes two pointers, pos_left and pos_right, to iterate over the array nums. The objective is to remove occurrences of a specified value (val) by swapping elements without the need for additional space.<br>\n",
    "\n",
    "Here's a breakdown of the logic:<br>\n",
    "- pos_left and pos_right are initialized to the start and end of the array nums, respectively.\n",
    "- The while loop continues as long as the left position (pos_left) is less than or equal to the right position (pos_right), ensuring proper traversal and comparison of array elements.\n",
    "- Inside the loop, it checks if the element at the current left position (pos_left) is equal to the target value val.\n",
    "    - If true, it swaps the element at pos_left with the element at pos_right and decrements pos_right.\n",
    "    - If false, it increments pos_left to move to the next element in the array.\n",
    "- The loop continues until the left and right positions meet, effectively handling the removal of occurrences of the target value by swapping elements.\n",
    "\n",
    "This method efficiently modifies the array in-place, removing specified values without requiring additional memory allocation."
   ]
  }
 ],
 "metadata": {
  "kernelspec": {
   "display_name": "Python 3",
   "language": "python",
   "name": "python3"
  },
  "language_info": {
   "codemirror_mode": {
    "name": "ipython",
    "version": 3
   },
   "file_extension": ".py",
   "mimetype": "text/x-python",
   "name": "python",
   "nbconvert_exporter": "python",
   "pygments_lexer": "ipython3",
   "version": "3.10.5"
  }
 },
 "nbformat": 4,
 "nbformat_minor": 2
}
