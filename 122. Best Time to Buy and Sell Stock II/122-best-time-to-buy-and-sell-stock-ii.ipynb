{
 "cells": [
  {
   "cell_type": "markdown",
   "metadata": {},
   "source": [
    "### Question 122\n",
    "(https://leetcode.com/problems/best-time-to-buy-and-sell-stock-ii/?envType=study-plan-v2&envId=top-interview-150)\n",
    "\n",
    "You are given an integer array `prices` where `prices[i]` is the price of a given stock on the `i-th` day.\n",
    "\n",
    "On each day, you may decide to buy and/or sell the stock. You can only hold at most one share of the stock at any time. However, you can buy it then immediately sell it on the same day.\n",
    "\n",
    "Find and return the maximum profit you can achieve."
   ]
  },
  {
   "cell_type": "markdown",
   "metadata": {},
   "source": [
    "#### Example 1:\n",
    "\n",
    "```python \n",
    "Input: prices = [7,1,5,3,6,4]\n",
    "Output: 7\n",
    "Explanation: Buy on day 2 (price = 1) and sell on day 3 (price = 5), profit = 5-1 = 4.\n",
    "Then buy on day 4 (price = 3) and sell on day 5 (price = 6), profit = 6-3 = 3.\n",
    "Total profit is 4 + 3 = 7. \n",
    "```\n",
    "\n",
    "#### Example 2:\n",
    "\n",
    "```python\n",
    "Input: prices = [1,2,3,4,5]\n",
    "Output: 4\n",
    "Explanation: Buy on day 1 (price = 1) and sell on day 5 (price = 5), profit = 5-1 = 4.\n",
    "Total profit is 4.\n",
    "```\n",
    "\n",
    "#### Example 3:\n",
    "\n",
    "```python\n",
    "Input: prices = [7,6,4,3,1]\n",
    "Output: 0\n",
    "Explanation: There is no way to make a positive profit, so we never buy the stock to achieve the maximum profit of 0.\n",
    "```"
   ]
  },
  {
   "cell_type": "markdown",
   "metadata": {},
   "source": [
    "### Problem Analysis\n",
    "\n",
    "**Task:** Calculate the maximum profit that can be obtained from a sequence of stock prices.\n",
    "\n",
    "- The input consists of a list `prices` where each element represents the stock price on a given day.\n",
    "- The goal is to find the maximum profit that can be obtained by buying and selling the stock.\n",
    "\n",
    "**Approach:**\n",
    "- Iterate through the list of stock prices.\n",
    "  - Initialize `max_profit` to zero.\n",
    "  - If the current day's price is higher than the previous day's price, add the positive difference to `max_profit`.\n",
    "- The final value of `max_profit` represents the maximum profit achievable.\n",
    "\n",
    "**Pseudocode:**\n",
    "1. Initialize `max_profit` to zero.\n",
    "2. Iterate through the list of stock prices.\n",
    "   - If the current day's price is higher than the previous day's price, add the positive difference to `max_profit`.\n",
    "3. The final value of `max_profit` represents the maximum profit achievable.\n",
    "\n",
    "**Differences witht the provious problem:**\n",
    "- The updated approach eliminates the use of `candidate_buy` and simplifies the logic.\n",
    "- The focus is on directly accumulating profit by considering buying and selling on the same or consecutive days.\n",
    "\n",
    "**Common Ground:**\n",
    "- Both approaches aim to maximize profit by considering buy and sell transactions based on the given stock prices.\n",
    "- The updated approach provides a more concise and straightforward solution to achieve the same objective."
   ]
  },
  {
   "cell_type": "code",
   "execution_count": 24,
   "metadata": {},
   "outputs": [],
   "source": [
    "class Solution:\n",
    "    def maxProfit(self, prices: List[int]) -> int:\n",
    "        if not prices or len(prices) < 2:\n",
    "            return 0\n",
    "\n",
    "        max_profit = 0\n",
    "        for i in range(1, len(prices)):\n",
    "            if prices[i] > prices[i - 1]:\n",
    "                max_profit += prices[i] - prices[i - 1]\n",
    "\n",
    "        return max_profit\n",
    "\n",
    "# Example usage:\n",
    "def test():\n",
    "    stock_prices = [3,2,7,4,7]\n",
    "    solution = Solution()\n",
    "    result = solution.maxProfit(stock_prices)\n",
    "    print(result)"
   ]
  },
  {
   "cell_type": "code",
   "execution_count": 25,
   "metadata": {},
   "outputs": [
    {
     "name": "stdout",
     "output_type": "stream",
     "text": [
      "8\n"
     ]
    }
   ],
   "source": [
    "test()"
   ]
  },
  {
   "cell_type": "markdown",
   "metadata": {},
   "source": [
    "### Discussion\n",
    "\n",
    "The provided code offers a solution to the problem of determining the maximum profit that can be obtained from a sequence of stock prices. The approach involves a straightforward iteration through the list of prices, utilizing a concise logic to update the maximum profit based on buying and selling decisions.\n",
    "\n",
    "#### Key Steps:\n",
    "\n",
    "1. **Initialization:**\n",
    "   - The algorithm initializes `max_profit` to zero, representing the maximum profit that can be obtained.\n",
    "   - It checks if the list of prices is empty or has only one element. If so, it returns zero as there are no transactions to be made.\n",
    "\n",
    "2. **Iteration through Prices:**\n",
    "   - The algorithm iterates through the list of stock prices, starting from the second day.\n",
    "   - If the current day's price is higher than the previous day's price, it adds the positive difference to `max_profit`. This captures profitable transactions.\n",
    "\n",
    "3. **Returning Result:**\n",
    "   - The final value of `max_profit` represents the maximum profit that can be achieved by buying and selling the stock.\n",
    "\n",
    "#### Example:\n",
    "   - For instance, with `prices = [7, 1, 5, 3, 6, 4]`, the algorithm iterates through the prices.\n",
    "   - It identifies profitable transactions by buying at 1 and selling at 5, then buying at 3 and selling at 6, resulting in a maximum profit of 7.\n",
    "\n",
    "This implementation offers a concise and effective solution to the problem, focusing on identifying positive differences between consecutive days' prices to accumulate the maximum profit. The simplicity of the logic contributes to the clarity and efficiency of the algorithm in maximizing profit from stock transactions."
   ]
  }
 ],
 "metadata": {
  "kernelspec": {
   "display_name": "Python 3",
   "language": "python",
   "name": "python3"
  },
  "language_info": {
   "codemirror_mode": {
    "name": "ipython",
    "version": 3
   },
   "file_extension": ".py",
   "mimetype": "text/x-python",
   "name": "python",
   "nbconvert_exporter": "python",
   "pygments_lexer": "ipython3",
   "version": "3.10.5"
  }
 },
 "nbformat": 4,
 "nbformat_minor": 2
}
