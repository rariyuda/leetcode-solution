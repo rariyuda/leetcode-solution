{
 "cells": [
  {
   "cell_type": "markdown",
   "metadata": {},
   "source": [
    "### Question 88 \n",
    "(https://leetcode.com/problems/merge-sorted-array/?envType=study-plan-v2&envId=top-interview-150)\n",
    "\n",
    "You are given two integer arrays nums1 and nums2, sorted in non-decreasing order, and two integers m and n, representing the number of elements in nums1 and nums2 respectively.\n",
    "\n",
    "Merge nums1 and nums2 into a single array sorted in non-decreasing order.\n",
    "\n",
    "The final sorted array should not be returned by the function, but instead be stored inside the array nums1. To accommodate this, nums1 has a length of m + n, where the first m elements denote the elements that should be merged, and the last n elements are set to 0 and should be ignored. nums2 has a length of n."
   ]
  },
  {
   "cell_type": "markdown",
   "metadata": {},
   "source": [
    "#### Problem Analysis\n",
    "Two sorted-arrays: nums1 and nums2 with m and n elements respectively:\n",
    "<br>nums1 length is m+n\n",
    "<br>nums2 length is n"
   ]
  },
  {
   "cell_type": "markdown",
   "metadata": {},
   "source": [
    "First we create the basic methods to merge and to test."
   ]
  },
  {
   "cell_type": "code",
   "execution_count": 1,
   "metadata": {},
   "outputs": [],
   "source": [
    "class Solution:\n",
    "    def merge(self, nums1, m, nums2, n) -> None:\n",
    "        print(\"\\n\",nums1, m, \"\\n\",nums2, n)"
   ]
  },
  {
   "cell_type": "code",
   "execution_count": 10,
   "metadata": {},
   "outputs": [],
   "source": [
    "def test():\n",
    "    solution = Solution()\n",
    "    nums1 = [1, 2, 3, 0, 0, 0]\n",
    "    nums2 = [2, 5, 6]\n",
    "    m = 3\n",
    "    n = 3\n",
    "\n",
    "    solution.merge(nums1, m, nums2, n)\n",
    "\n",
    "    print(nums1)"
   ]
  },
  {
   "cell_type": "code",
   "execution_count": 3,
   "metadata": {},
   "outputs": [
    {
     "name": "stdout",
     "output_type": "stream",
     "text": [
      "\n",
      " [1, 2, 3, 0, 0, 0] 3 \n",
      " [2, 5, 6] 3\n"
     ]
    }
   ],
   "source": [
    "test()"
   ]
  },
  {
   "cell_type": "markdown",
   "metadata": {},
   "source": [
    "We are merging two sorted arrays, nums1 and nums2, into nums1, which already has enough space to accommodate both arrays."
   ]
  },
  {
   "cell_type": "markdown",
   "metadata": {},
   "source": [
    "Initialization:<br>\n",
    "    x starts at the last index of non-zero elements in nums1.<br>\n",
    "    y starts at the last index of nums2.<br>\n",
    "    pos_id starts at the last index of the merged array (nums1 + nums2)."
   ]
  },
  {
   "cell_type": "markdown",
   "metadata": {},
   "source": [
    "The purpose of these variables is to perform a backward merge of the two sorted arrays (nums1 and nums2). The merging starts from the end of both arrays, comparing elements and placing the larger one at the end of the merged array (nums1). This is an efficient way to merge two sorted arrays without requiring additional space."
   ]
  },
  {
   "cell_type": "code",
   "execution_count": null,
   "metadata": {},
   "outputs": [],
   "source": [
    "class Solution:\n",
    "    def merge(self, nums1, m, nums2, n) -> None:\n",
    "        x,y,pos_id = m-1, n-1, m+n-1\n",
    "        "
   ]
  },
  {
   "cell_type": "markdown",
   "metadata": {},
   "source": [
    "#### Code Flow"
   ]
  },
  {
   "cell_type": "markdown",
   "metadata": {},
   "source": [
    "1. **Condition Check (while y >= 0):** We do the comparison for each of the elements of nums2 (while y >= 0).<br>\n",
    "2. **Comparison Check (if x >= 0 and nums1[x] > nums2[y]):** Check if there are remaining elements in nums1 (x >= 0) and if the element in nums1 at index x is greater than the element in nums2 at index y.<br>\n",
    "3. **Merging (nums1[pos_id] = nums1[x]):** If the condition in step 2 is true, assign the value of the element at index x in nums1 to the position pos_id in the merged array nums1. Then, decrement x to move to the previous element in nums1.<br>\n",
    "4. **Alternate Merging (else: nums1[pos_id] = nums2[y]):** If the condition in step 2 is false, meaning the element in nums2 at index y is greater or equal, assign the value of the element at index y in nums2 to the position pos_id in the merged array nums1. Then, decrement y to move to the previous element in nums2.<br>\n",
    "5. **Decrement pos_id (pos_id -= 1):** Decrement the variable pos_id to move to the next position in the merged array.<br>"
   ]
  },
  {
   "cell_type": "markdown",
   "metadata": {},
   "source": [
    "#### Code Implementation"
   ]
  },
  {
   "cell_type": "code",
   "execution_count": 4,
   "metadata": {},
   "outputs": [],
   "source": [
    "class Solution:\n",
    "    def merge(Self, nums1, m, nums2, n) -> None:\n",
    "        x, y, pos_id = m-1, n-1, m+n-1\n",
    "\n",
    "        while y>=0:\n",
    "            if x>=0 and nums1[x] > nums2[y]:\n",
    "                nums1[pos_id] = nums1[x]\n",
    "                x-=1\n",
    "            else:\n",
    "                nums1[pos_id] = nums2[y]\n",
    "                y-=1\n",
    "            pos_id-=1"
   ]
  },
  {
   "cell_type": "code",
   "execution_count": 11,
   "metadata": {},
   "outputs": [
    {
     "name": "stdout",
     "output_type": "stream",
     "text": [
      "[1, 2, 2, 3, 5, 6]\n"
     ]
    }
   ],
   "source": [
    "test()"
   ]
  }
 ],
 "metadata": {
  "kernelspec": {
   "display_name": "Python 3",
   "language": "python",
   "name": "python3"
  },
  "language_info": {
   "codemirror_mode": {
    "name": "ipython",
    "version": 3
   },
   "file_extension": ".py",
   "mimetype": "text/x-python",
   "name": "python",
   "nbconvert_exporter": "python",
   "pygments_lexer": "ipython3",
   "version": "3.10.5"
  }
 },
 "nbformat": 4,
 "nbformat_minor": 2
}
