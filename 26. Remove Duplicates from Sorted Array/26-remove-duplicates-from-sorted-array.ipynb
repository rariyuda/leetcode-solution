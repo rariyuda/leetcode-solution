{
 "cells": [
  {
   "cell_type": "markdown",
   "metadata": {},
   "source": [
    "### Question 26\n",
    "(https://leetcode.com/problems/remove-duplicates-from-sorted-array/?envType=study-plan-v2&envId=top-interview-150)\n",
    "\n",
    "Given an integer array nums sorted in non-decreasing order, remove the duplicates in-place such that each unique element appears only once. The relative order of the elements should be kept the same. Then return the number of unique elements in nums.\n",
    "\n",
    "Consider the number of unique elements of nums to be k, to get accepted, you need to do the following things:\n",
    "\n",
    "- Change the array nums such that the first k elements of nums contain the unique elements in the order they were present in nums initially. The remaining elements of nums are not important as well as the size of nums.\n",
    "- Return k.\n"
   ]
  },
  {
   "cell_type": "markdown",
   "metadata": {},
   "source": [
    "#### Example 1\n",
    "```python\n",
    "Input: nums = [1,1,2]\n",
    "Output: 2, nums = [1,2,_]\n",
    "Explanation: Your function should return k = 2, with the first two elements of nums being 1 and 2 respectively.\n",
    "It does not matter what you leave beyond the returned k (hence they are underscores).\n",
    "```\n",
    "\n",
    "#### Example 2\n",
    "```python\n",
    "Input: nums = [0,0,1,1,1,2,2,3,3,4]\n",
    "Output: 5, nums = [0,1,2,3,4,_,_,_,_,_]\n",
    "Explanation: Your function should return k = 5, with the first five elements of nums being 0, 1, 2, 3, and 4 respectively.\n",
    "It does not matter what you leave beyond the returned k (hence they are underscores).\n",
    "```"
   ]
  },
  {
   "cell_type": "markdown",
   "metadata": {},
   "source": [
    "#### Problem Analysis\n",
    "Task: remove the duplicates from sorted array<br>\n",
    "We will need to check if the current element is the same as previous one, if the same then remove, otherwise continue increment<br>\n",
    "Thus, we will need two pointers.\n",
    "- for iterating over the whole elements\n",
    "- to keep track of the current length"
   ]
  },
  {
   "cell_type": "markdown",
   "metadata": {},
   "source": [
    "#### Initialization\n",
    "- i: starts at index 1, it is responsible for iterating over the elements of nums\n",
    "- k: starts at 1, it's the return value of the length of non-duplicate elements<br>\n",
    "Both the variable starts at one since there should be at least one element in nums."
   ]
  },
  {
   "cell_type": "code",
   "execution_count": 7,
   "metadata": {},
   "outputs": [],
   "source": [
    "from typing import List\n",
    "class Solution:\n",
    "    def removeDuplicates(self, nums: List[int]) -> int:\n",
    "        k = 1\n",
    "        for i in range(1,len(nums)):\n",
    "            print(i)\n",
    "        return k"
   ]
  },
  {
   "cell_type": "code",
   "execution_count": 8,
   "metadata": {},
   "outputs": [],
   "source": [
    "def test():\n",
    "    solution = Solution()\n",
    "    nums = [0,0,1,1,1,2,2,3,3,4]\n",
    "\n",
    "    k=solution.removeDuplicates(nums)\n",
    "    print(nums[:k])"
   ]
  },
  {
   "cell_type": "markdown",
   "metadata": {},
   "source": [
    "#### Code Flow\n",
    "\n",
    "1. **Loop Iteration:** Iterate over the array `nums` starting from index 1. This loop compares each element with its previous one.\n",
    "\n",
    "2. **Comparison Check:** Check if the current element at index `i` is not equal to the previous element at index `i-1`. This comparison identifies when a new distinct element is encountered.\n",
    "\n",
    "3. **Element Assignment:** If the condition in step 2 is true, assign the current element at index `i` to the position `k` in the array. This effectively moves distinct elements to the front of the array.\n",
    "\n",
<<<<<<< HEAD
    "4. **Incrementing k:** Increment the variable `k` to keep track of the length of the modified array."
=======
    "4. **Incrementing k:** Increment the variable `k` to keep track of the length of the modified array.\n"
>>>>>>> ffcf5b1e5985bf643c69c40199a58fa36f12fa3c
   ]
  },
  {
   "cell_type": "code",
   "execution_count": 9,
   "metadata": {},
   "outputs": [],
   "source": [
    "class Solution:\n",
    "    def removeDuplicates(self, nums:List[int]):\n",
    "        k = 1\n",
    "        for i in range(1, len(nums)):\n",
    "            if nums[i] != nums[i-1]:\n",
    "                nums[k] = nums[i]\n",
    "                k+=1\n",
    "        return k"
   ]
  },
  {
   "cell_type": "code",
   "execution_count": 10,
   "metadata": {},
   "outputs": [
    {
     "name": "stdout",
     "output_type": "stream",
     "text": [
      "[0, 1, 2, 3, 4]\n"
     ]
    }
   ],
   "source": [
    "test()"
   ]
  },
  {
   "cell_type": "markdown",
   "metadata": {},
   "source": [
    "#### Discussion\n",
    "\n",
    "The approach used in this code is often referred to as the \"Two-pointer sliding window\" technique. This method employs two pointers, `k` and `i`, to traverse and modify the array `nums` in-place. The primary goal is to remove duplicate elements by swapping and maintaining a distinct element count (`k`).\n",
    "\n",
    "Here's the logic breakdown:\n",
    "\n",
    "1. **Initialization**  `(k = 1)`: Initialize a variable `k` to 1. This variable will keep track of the length of the modified array.\n",
    "\n",
    "2. **Loop Iteration** `(for i in range(1, len(nums)))`: Iterate over the array `nums` starting from index 1. This loop is designed to compare each element with its previous one.\n",
    "\n",
    "3. **Comparison Check** `(if nums[i] != nums[i-1])`: Check if the current element at index `i` is not equal to the previous element at index `i-1`. This comparison identifies when a new distinct element is encountered.\n",
    "\n",
    "4. **Element Assignment** `(nums[k] = nums[i])`: If the condition in step 3 is true, assign the current element at index `i` to the position `k` in the array. This effectively moves distinct elements to the front of the array.\n",
    "\n",
    "5. **Incrementing k** `(k += 1)`: Increment the variable `k` to keep track of the length of the modified array.\n",
    "\n",
    "6. **Returning Length** `(return k)`: After the loop, return the final value of `k`, which represents the count of distinct elements in the array. The array itself is modified in place, with unique elements placed at the beginning.\n",
    "\n",
    "This process efficiently removes duplicate elements from the array, eliminating duplicates while maintaining the order of unique elements in the array."
   ]
  }
 ],
 "metadata": {
  "kernelspec": {
   "display_name": "Python 3",
   "language": "python",
   "name": "python3"
  },
  "language_info": {
   "codemirror_mode": {
    "name": "ipython",
    "version": 3
   },
   "file_extension": ".py",
   "mimetype": "text/x-python",
   "name": "python",
   "nbconvert_exporter": "python",
   "pygments_lexer": "ipython3",
   "version": "3.10.5"
  }
 },
 "nbformat": 4,
 "nbformat_minor": 2
}
