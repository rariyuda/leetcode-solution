{
  "nbformat": 4,
  "nbformat_minor": 0,
  "metadata": {
    "colab": {
      "provenance": [],
      "authorship_tag": "ABX9TyPAXj28/EvGBzlDX/0fEPHg",
      "include_colab_link": true
    },
    "kernelspec": {
      "name": "python3",
      "display_name": "Python 3"
    },
    "language_info": {
      "name": "python"
    }
  },
  "cells": [
    {
      "cell_type": "markdown",
      "metadata": {
        "id": "view-in-github",
        "colab_type": "text"
      },
      "source": [
        "<a href=\"https://colab.research.google.com/github/rariyuda/leetcode-solution/blob/main/Q169.ipynb\" target=\"_parent\"><img src=\"https://colab.research.google.com/assets/colab-badge.svg\" alt=\"Open In Colab\"/></a>"
      ]
    },
    {
      "cell_type": "markdown",
      "source": [
        "### Question 169\n",
        "(https://leetcode.com/problems/majority-element/description/)\n",
        "\n",
        "Given an array nums of size n, return the majority element.\n",
        "The majority element is the element that appears more than ⌊n / 2⌋ times. You may assume that the majority element always exists in the array."
      ],
      "metadata": {
        "id": "6lSOs3t6Dauu"
      }
    },
    {
      "cell_type": "markdown",
      "source": [
        "\n",
        "#### Example 1:\n",
        "```python\n",
        "Input: nums = [3,2,3]\n",
        "Output: 3\n",
        "```\n",
        "\n",
        "#### Example 2:\n",
        "```python\n",
        "Input: nums = [2,2,1,1,1,2,2]\n",
        "Output: 2\n",
        "```"
      ],
      "metadata": {
        "id": "qTzWvD_MDsTA"
      }
    },
    {
      "cell_type": "markdown",
      "source": [
        "### Problem Analysis\n",
        "Task: return the majority element\n",
        "\n",
        "- We know that there is always a majority element\n",
        "- Appear more than n/2 times\n",
        "- We'll select the first element as candidate\n",
        "- Candidate element will traverse through the array\n",
        "- It will check in every loop\n",
        "- If the next element is the same, we increment the count, otherwise decrement\n",
        "- If count reach back to zero, it will select the next element as candidate"
      ],
      "metadata": {
        "id": "Txl28CqbYUe4"
      }
    },
    {
      "cell_type": "markdown",
      "source": [
        "### Initialization\n",
        "- candidate: use index 0 element as starting candidate of most showed up element\n",
        "- count: keep track for the candidate count"
      ],
      "metadata": {
        "id": "eId5ckD9oQ5i"
      }
    },
    {
      "cell_type": "code",
      "source": [
        "\n",
        "from typing import List\n",
        "class Solution:\n",
        "    def majorityElement(self, nums:List[int])->int:\n",
        "        candidate = None\n",
        "        count = 0"
      ],
      "metadata": {
        "id": "9BBRTxFRrsw1"
      },
      "execution_count": 5,
      "outputs": []
    }
  ]
}