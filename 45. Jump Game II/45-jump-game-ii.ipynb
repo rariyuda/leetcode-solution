{
 "cells": [
  {
   "cell_type": "markdown",
   "metadata": {},
   "source": [
    "### Question 45\n",
    "\n",
    "You are given a 0-indexed array of integers `nums` of length `n`. You are initially positioned at `nums[0]`.\n",
    "\n",
    "Each element `nums[i]` represents the maximum length of a forward jump from index `i`. In other words, if you are at `nums[i]`, you can jump to any `nums[i + j]` where:\n",
    "```python\n",
    "    0 <= j <= nums[i] and\n",
    "    i + j < n\n",
    "```\n",
    "Return the minimum number of jumps to reach `nums[n - 1]`. The test cases are generated such that you can reach `nums[n - 1]`."
   ]
  },
  {
   "cell_type": "markdown",
   "metadata": {},
   "source": [
    "#### Example 1:\n",
    "```python\n",
    "Input: nums = [2,3,1,1,4]\n",
    "Output: 2\n",
    "Explanation: The minimum number of jumps to reach the last index is 2. Jump 1 step from index 0 to 1, then 3 steps to the last index.\n",
    "```\n",
    "\n",
    "#### Example 2:\n",
    "```python\n",
    "Input: nums = [2,3,0,1,4]\n",
    "Output: 2\n",
    "```"
   ]
  },
  {
   "cell_type": "markdown",
   "metadata": {},
   "source": [
    "### Problem Analysis\n",
    "\n",
    "**Task:** Determine the minimum number of jumps needed to reach the last index of an array based on jump lengths.\n",
    "\n",
    "- The input consists of an array `nums` where each element represents the maximum jump length from that position.\n",
    "- The goal is to find the minimum number of jumps needed to reach the last index of the array.\n",
    "\n",
    "**Approach:**\n",
    "- Initialize variables `jumps`, `current_end`, and `farthest`.\n",
    "- Iterate through the array using a loop.\n",
    "  - For each index `i`, update `farthest` to the maximum of its current value and `i + nums[i]`, representing the farthest index reachable from the current position.\n",
    "  - Check if `i` is equal to `current_end`. If so, it means we have reached the end of the current jump range. Increment `jumps` and update `current_end` to the farthest index reachable with the current jumps.\n",
    "- Return the total\n",
    "\n",
    "**Pseudocode:**\n",
    "1. Initialize variables `jumps` to 0, `current_end` to 0, and `farthest` to 0.\n",
    "2. Iterate through the array using a loop with index `i`.\n",
    "   - Update `farthest` to the maximum of its current value and `i + nums[i]`.\n",
    "   - If `i` is equal to `current_end`, increment `jumps` and update `current_end` to `farthest`.\n",
    "   - If `current_end` is greater than or equal to the last index, break from the loop.\n",
    "3. Return the value of `jumps` as the minimum number of jumps needed to reach the last index."
   ]
  },
  {
   "cell_type": "code",
   "execution_count": 13,
   "metadata": {},
   "outputs": [],
   "source": [
    "from typing import List\n",
    "class Solution:\n",
    "    def jump(self, nums: List[int]) -> int:\n",
    "        n = len(nums)\n",
    "        if n <= 1:\n",
    "            return 0\n",
    "\n",
    "        jumps = 0\n",
    "        current_end = 0\n",
    "        farthest = 0\n",
    "\n",
    "        for i in range(n - 1):\n",
    "            farthest = max(farthest, i + nums[i])\n",
    "\n",
    "            if i == current_end:\n",
    "                jumps += 1\n",
    "                current_end = farthest\n",
    "\n",
    "        return jumps\n"
   ]
  },
  {
   "cell_type": "code",
   "execution_count": 28,
   "metadata": {},
   "outputs": [],
   "source": [
    "def test():\n",
    "    nums = [1,1,2,1,4]\n",
    "    solution = Solution()\n",
    "    print(nums,\"->\",solution.jump(nums))\n"
   ]
  },
  {
   "cell_type": "code",
   "execution_count": 29,
   "metadata": {},
   "outputs": [
    {
     "name": "stdout",
     "output_type": "stream",
     "text": [
      "[1, 1, 2, 1, 4] -> 3\n"
     ]
    }
   ],
   "source": [
    "test()"
   ]
  }
 ],
 "metadata": {
  "kernelspec": {
   "display_name": "Python 3",
   "language": "python",
   "name": "python3"
  },
  "language_info": {
   "codemirror_mode": {
    "name": "ipython",
    "version": 3
   },
   "file_extension": ".py",
   "mimetype": "text/x-python",
   "name": "python",
   "nbconvert_exporter": "python",
   "pygments_lexer": "ipython3",
   "version": "3.10.5"
  }
 },
 "nbformat": 4,
 "nbformat_minor": 2
}
