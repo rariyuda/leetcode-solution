{
 "cells": [
  {
   "cell_type": "markdown",
   "metadata": {},
   "source": [
    "### Question 45\n",
    "\n",
    "You are given a 0-indexed array of integers `nums` of length `n`. You are initially positioned at `nums[0]`.\n",
    "\n",
    "Each element `nums[i]` represents the maximum length of a forward jump from index `i`. In other words, if you are at `nums[i]`, you can jump to any `nums[i + j]` where:\n",
    "```python\n",
    "    0 <= j <= nums[i] and\n",
    "    i + j < n\n",
    "```\n",
    "Return the minimum number of jumps to reach `nums[n - 1]`. The test cases are generated such that you can reach `nums[n - 1]`."
   ]
  },
  {
   "cell_type": "markdown",
   "metadata": {},
   "source": [
    "#### Example 1:\n",
    "```python\n",
    "Input: nums = [2,3,1,1,4]\n",
    "Output: 2\n",
    "Explanation: The minimum number of jumps to reach the last index is 2. Jump 1 step from index 0 to 1, then 3 steps to the last index.\n",
    "```\n",
    "\n",
    "#### Example 2:\n",
    "```python\n",
    "Input: nums = [2,3,0,1,4]\n",
    "Output: 2\n",
    "```"
   ]
  }
 ],
 "metadata": {
  "language_info": {
   "name": "python"
  }
 },
 "nbformat": 4,
 "nbformat_minor": 2
}
