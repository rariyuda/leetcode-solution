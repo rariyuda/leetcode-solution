{
 "cells": [
  {
   "cell_type": "markdown",
   "metadata": {},
   "source": [
    "### Question 55\n",
    "(https://leetcode.com/problems/jump-game/?envType=study-plan-v2&envId=top-interview-150)\n",
    "\n",
    "You are given an integer array `nums`. You are initially positioned at the array's **first index**, and each element in the array represents your maximum jump length at that position.\n",
    "\n",
    "Return `true` if you can reach the last index, or `false` otherwise."
   ]
  },
  {
   "cell_type": "markdown",
   "metadata": {},
   "source": [
    "#### Example 1:\n",
    "```python\n",
    "Input: nums = [2,3,1,1,4]\n",
    "Output: true\n",
    "Explanation: Jump 1 step from index 0 to 1, then 3 steps to the last index.\n",
    "```\n",
    "\n",
    "#### Example 2:\n",
    "```python\n",
    "Input: nums = [3,2,1,0,4]\n",
    "Output: false\n",
    "Explanation: You will always arrive at index 3 no matter what. Its maximum jump length is 0, which makes it impossible to reach the last index.\n",
    "```"
   ]
  },
  {
   "cell_type": "markdown",
   "metadata": {},
   "source": [
    "### Problem Analysis\n",
    "\n",
    "**Task:** Determine if it's possible to reach the last index of an array based on jump lengths.\n",
    "\n",
    "- The input consists of an array `nums` where each element represents the maximum jump length from that position.\n",
    "- The goal is to determine whether it's possible to reach the last index of the array.\n",
    "\n",
    "**Approach:**\n",
    "- Initialize a variable `max_reach` to 0, representing the maximum reachable index.\n",
    "- Iterate through the array using a loop.\n",
    "  - For each index `i`, check if it is beyond the current `max_reach`. If so, return `false` as it's not possible to reach the last index.\n",
    "  - Update `max_reach` to the maximum of its current value and `i + nums[i]`, representing the farthest index reachable from the current position.\n",
    "  - If `max_reach` is greater than or equal to the last index, return `true` as it is possible to reach the last index.\n",
    "- If the loop completes without returning, it means the last index is not reachable, so return `false`.\n",
    "\n",
    "**Pseudocode:**\n",
    "1. Initialize `max_reach` to 0.\n",
    "2. Iterate through the array using a loop with index `i`.\n",
    "   - If `i` is greater than `max_reach`, return `false`.\n",
    "   - Update `max_reach` to the maximum of its current value and `i + nums[i]`.\n",
    "   - If `max_reach` is greater than or equal to the last index, return `true`.\n",
    "3. If the loop completes without returning, return `false` as the last index is not reachable."
   ]
  },
  {
   "cell_type": "code",
   "execution_count": 2,
   "metadata": {},
   "outputs": [],
   "source": [
    "from typing import List\n",
    "class Solution:\n",
    "    def canJump(self, nums: List[int]) -> bool:\n",
    "        max_reach = 0\n",
    "        \n",
    "        for i in range(len(nums)):\n",
    "            if i > max_reach:\n",
    "                return False\n",
    "            \n",
    "            max_reach = max(max_reach, i + nums[i])\n",
    "\n",
    "            if max_reach >= len(nums) - 1:\n",
    "                return True\n",
    "\n",
    "        return False"
   ]
  },
  {
   "cell_type": "code",
   "execution_count": 7,
   "metadata": {},
   "outputs": [],
   "source": [
    "def test():\n",
    "    nums = [2,0,1,1,4]\n",
    "    solution = Solution()\n",
    "    res = solution.canJump(nums)\n",
    "    print(res)"
   ]
  },
  {
   "cell_type": "code",
   "execution_count": 8,
   "metadata": {},
   "outputs": [
    {
     "name": "stdout",
     "output_type": "stream",
     "text": [
      "True\n"
     ]
    }
   ],
   "source": [
    "test()"
   ]
  },
  {
   "cell_type": "markdown",
   "metadata": {},
   "source": [
    "### Discussion\n",
    "\n",
    "The provided code addresses the problem of determining whether it is possible to reach the last index of an array based on jump lengths. The algorithm employs a simple and efficient approach, iterating through the array while updating a variable, `max_reach`, which represents the farthest index reachable from the current position.\n",
    "\n",
    "#### Key Steps:\n",
    "\n",
    "1. **Initialization:**\n",
    "   - The algorithm initializes `max_reach` to 0, indicating the maximum reachable index.\n",
    "   \n",
    "2. **Iteration through the Array:**\n",
    "   - The algorithm iterates through the array using a loop with an index variable `i`.\n",
    "   - For each index `i`, it checks if it is beyond the current `max_reach`. If so, the algorithm returns `False`, indicating it is not possible to reach the last index.\n",
    "   - It updates `max_reach` to the maximum of its current value and `i + nums[i]`, representing the farthest index reachable from the current position.\n",
    "   - If `max_reach` is greater than or equal to the last index, the algorithm returns `True`, indicating it is possible to reach the last index.\n",
    "\n",
    "3. **Returning Result:**\n",
    "   - If the loop completes without returning, the algorithm returns `False` as the last index is not reachable.\n",
    "\n",
    "#### Example:\n",
    "   - For example, with `nums = [2, 3, 1, 1, 4]`, the algorithm iterates through the array, updating `max_reach` based on the current index and jump length.\n",
    "   - It successfully determines that it is possible to reach the last index."
   ]
  }
 ],
 "metadata": {
  "kernelspec": {
   "display_name": "Python 3",
   "language": "python",
   "name": "python3"
  },
  "language_info": {
   "codemirror_mode": {
    "name": "ipython",
    "version": 3
   },
   "file_extension": ".py",
   "mimetype": "text/x-python",
   "name": "python",
   "nbconvert_exporter": "python",
   "pygments_lexer": "ipython3",
   "version": "3.10.5"
  }
 },
 "nbformat": 4,
 "nbformat_minor": 2
}
