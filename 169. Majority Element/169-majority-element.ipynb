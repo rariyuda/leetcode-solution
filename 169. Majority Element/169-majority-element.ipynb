{
  "cells": [
    {
      "cell_type": "markdown",
      "metadata": {
        "id": "6lSOs3t6Dauu"
      },
      "source": [
        "### Question 169\n",
        "(https://leetcode.com/problems/majority-element/description/)\n",
        "\n",
        "Given an array nums of size n, return the majority element.\n",
        "The majority element is the element that appears more than ⌊n / 2⌋ times. You may assume that the majority element always exists in the array."
      ]
    },
    {
      "cell_type": "markdown",
      "metadata": {
        "id": "qTzWvD_MDsTA"
      },
      "source": [
        "\n",
        "#### Example 1:\n",
        "```python\n",
        "Input: nums = [3,2,3]\n",
        "Output: 3\n",
        "```\n",
        "\n",
        "#### Example 2:\n",
        "```python\n",
        "Input: nums = [2,2,1,1,1,2,2]\n",
        "Output: 2\n",
        "```"
      ]
    },
    {
      "cell_type": "markdown",
      "metadata": {
        "id": "Txl28CqbYUe4"
      },
      "source": [
        "### Problem Analysis\n",
        "Task: return the majority element\n",
        "\n",
        "- We know that there is always a majority element\n",
        "- Appear more than n/2 times\n",
        "- We'll select the first element as candidate\n",
        "- Candidate element will traverse through the array\n",
        "- It will check in every loop\n",
        "- If the next element is the same, we increment the count, otherwise decrement\n",
        "- If count reach back to zero, it will select the next element as candidate"
      ]
    },
    {
      "cell_type": "markdown",
      "metadata": {
        "id": "eId5ckD9oQ5i"
      },
      "source": [
        "### Initialization\n",
        "- candidate: use index 0 element as starting candidate of most showed up element\n",
        "- count: keep track for the candidate count"
      ]
    },
    {
      "cell_type": "code",
      "execution_count": 1,
      "metadata": {
        "id": "9BBRTxFRrsw1"
      },
      "outputs": [],
      "source": [
        "from typing import List\n",
        "class Solution:\n",
        "    def majorityElement(self, nums:List[int])->int:\n",
        "        candidate = None\n",
        "        count = 0"
      ]
    },
    {
      "cell_type": "code",
      "execution_count": 2,
      "metadata": {},
      "outputs": [],
      "source": [
        "def test():\n",
        "    nums = [2,2,1,1,1,2,2]\n",
        "    solution = Solution()\n",
        "    result = solution.majorityElement(nums)\n",
        "    print(nums,\" -> \",result)"
      ]
    },
    {
      "cell_type": "markdown",
      "metadata": {},
      "source": [
        "### Code Flow\n",
        "\n",
        "1. **Initialization:** Initialize `candidate` and `count` variables to `None` and `0` respectively.\n",
        "\n",
        "2. **Iterative Processing:** Iterate through each element (`num`) in the input array `nums`.\n",
        "\n",
        "3. **Check Count:** Check if the `count` is zero. If true, update the `candidate` to the current element `num`. This step is essential for the majority element to ensure that the current element becomes a potential candidate.\n",
        "\n",
        "4. **Update Count:** If the current element `num` is equal to the `candidate`, increment the `count` by 1. Otherwise, decrement the `count` by 1. This step effectively balances the count of potential majority elements.\n",
        "\n",
        "5. **Result:** After iterating through all elements, the `candidate` variable holds the potential majority element, as it survived the count balancing process. Return the `candidate` as the majority element."
      ]
    },
    {
      "cell_type": "code",
      "execution_count": 3,
      "metadata": {},
      "outputs": [],
      "source": [
        "class Solution:\n",
        "    def majorityElement(self, nums: List[int]) -> int:\n",
        "        candidate = None\n",
        "        count = 0\n",
        "\n",
        "        for num in nums:\n",
        "            if count == 0:\n",
        "                candidate = num\n",
        "            if num == candidate:\n",
        "                count += 1\n",
        "            else:\n",
        "                count -= 1\n",
        "\n",
        "        return candidate"
      ]
    },
    {
      "cell_type": "code",
      "execution_count": 4,
      "metadata": {},
      "outputs": [
        {
          "name": "stdout",
          "output_type": "stream",
          "text": [
            "[2, 2, 1, 1, 1, 2, 2]  ->  2\n"
          ]
        }
      ],
      "source": [
        "test()"
      ]
    },
    {
      "cell_type": "markdown",
      "metadata": {},
      "source": [
        "### Discussion\n",
        "\n",
        "The provided code implements the \"Boyer-Moore Voting Algorithm,\" a widely used technique for efficiently finding the majority element in an array[^1^]. The algorithm identifies a majority element (an element that appears more than ⌊n/2⌋ times, where n is the length of the array) in a single pass through the array.\n",
        "\n",
        "Here's a breakdown of the logic:\n",
        "\n",
        "1. **Initialization**: The algorithm initializes two variables, `candidate` and `count`. `candidate` represents the current potential majority element, and `count` keeps track of its frequency.\n",
        "\n",
        "   ```python\n",
        "   candidate = None\n",
        "   count = 0\n",
        "   ```\n",
        "\n",
        "2. **Loop Iteration**: The code iterates through the input array `nums`, and for each element:\n",
        "\n",
        "    - If `count` is 0, it updates the `candidate` to the current element.\n",
        "    - If the current element is equal to the `candidate`, it increments `count`; otherwise, it decrements `count`.\n",
        "\n",
        "   ```python\n",
        "   for num in nums:\n",
        "       if count == 0:\n",
        "           candidate = num\n",
        "       if num == candidate:\n",
        "           count += 1\n",
        "       else:\n",
        "           count -= 1\n",
        "   ```\n",
        "\n",
        "3. **Count Maintenance**: The algorithm maintains a count of the majority element by incrementing or decrementing the count based on the equality of the current element and the candidate.\n",
        "\n",
        "4. **Result Return**: The final result is the `candidate`, which is the majority element.\n",
        "\n",
        "   ```python\n",
        "   return candidate\n",
        "   ```\n",
        "\n",
        "This algorithm works because the majority element, by definition, appears more frequently than any other element. The count is incremented for matching elements and decremented for non-matching elements. The majority element will eventually have a count greater than 0 after processing all elements.\n",
        "\n",
        "This implementation has a time complexity of O(n) as it processes each element in the array once. It also uses O(1) space, making it an efficient and space-optimized solution for finding the majority element in an array. The provided code is clear, concise, and effectively addresses the problem."
      ]
    }
  ],
  "metadata": {
    "colab": {
      "authorship_tag": "ABX9TyPAXj28/EvGBzlDX/0fEPHg",
      "include_colab_link": true,
      "provenance": []
    },
    "kernelspec": {
      "display_name": "Python 3",
      "name": "python3"
    },
    "language_info": {
      "codemirror_mode": {
        "name": "ipython",
        "version": 3
      },
      "file_extension": ".py",
      "mimetype": "text/x-python",
      "name": "python",
      "nbconvert_exporter": "python",
      "pygments_lexer": "ipython3",
      "version": "3.10.5"
    }
  },
  "nbformat": 4,
  "nbformat_minor": 0
}
