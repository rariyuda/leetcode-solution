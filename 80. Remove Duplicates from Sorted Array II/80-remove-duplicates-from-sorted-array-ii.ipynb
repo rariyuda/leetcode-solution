{
 "cells": [
  {
   "cell_type": "markdown",
   "metadata": {},
   "source": [
    "### Question 80\n",
    "(https://leetcode.com/problems/remove-duplicates-from-sorted-array-ii/?envType=study-plan-v2&envId=top-interview-150)\n",
    "\n",
    "Given an integer array nums sorted in non-decreasing order, remove some duplicates in-place such that each unique element appears at most twice. The relative order of the elements should be kept the same.<br>\n",
    "\n",
    "Since it is impossible to change the length of the array in some languages, you must instead have the result be placed in the first part of the array nums. More formally, if there are k elements after removing the duplicates, then the first k elements of nums should hold the final result. It does not matter what you leave beyond the first k elements. <br>\n",
    "\n",
    "Return k after placing the final result in the first k slots of nums.<br>\n",
    "\n",
    "Do not allocate extra space for another array. You must do this by modifying the input array in-place with O(1) extra memory."
   ]
  },
  {
   "cell_type": "markdown",
   "metadata": {},
   "source": [
    "#### Example 1:\n",
    "```python\n",
    "Input: nums = [1,1,1,2,2,3]\n",
    "Output: 5, nums = [1,1,2,2,3,_]\n",
    "Explanation: Your function should return k = 5, with the first five elements of nums being 1, 1, 2, 2 and 3 respectively.\n",
    "It does not matter what you leave beyond the returned k (hence they are underscores).\n",
    "```\n",
    "\n",
    "#### Example 2:\n",
    "```python\n",
    "Input: nums = [0,0,1,1,1,1,2,3,3]\n",
    "Output: 7, nums = [0,0,1,1,2,3,3,_,_]\n",
    "Explanation: Your function should return k = 7, with the first seven elements of nums being 0, 0, 1, 1, 2, 3 and 3 respectively.\n",
    "It does not matter what you leave beyond the returned k (hence they are underscores).\n",
    "```"
   ]
  },
  {
   "cell_type": "markdown",
   "metadata": {},
   "source": [
    "### Problem Analysis\n",
    "Task: remove the duplicates from sorted array, at most appear twice<br>\n",
    "Since we allow duplicate to appear at most twice, k will start at 2<br>\n",
    "The pointer will compare from its current position to the -2 position before<br>\n",
    "\n",
    "Thus we will use two pointers:\n",
    "- iterating through the whole elements\n",
    "- keep tracking the length of the inspected element\n",
    "\n",
    "\n",
    "### Initialization\n",
    "- i: starts at index 2, it is responsible for iterating over the elements of nums\n",
    "- k: starts at 2, it's the return value of the length of non-duplicate elements<br>\n",
    "Both the variable starts at 2 since there could be at most two duplicate elements in nums."
   ]
  },
  {
   "cell_type": "code",
   "execution_count": 2,
   "metadata": {},
   "outputs": [],
   "source": [
    "from typing import List\n",
    "class Solution:\n",
    "    def removeDuplicates(self, nums: List[int])->int:\n",
    "        k = 2\n",
    "        for i in range(2, len(nums)):\n",
    "            print(i)\n",
    "        return k"
   ]
  },
  {
   "cell_type": "code",
   "execution_count": 3,
   "metadata": {},
   "outputs": [],
   "source": [
    "def test():\n",
    "    solution = Solution()\n",
    "    nums = [0,0,1,1,1,1,2,3,3]\n",
    "    k = solution.removeDuplicates(nums)\n",
    "    print(nums[:k])"
   ]
  },
  {
   "cell_type": "markdown",
   "metadata": {},
   "source": [
    "### Code Flow\n",
    "\n",
    "1. **Initialization:** Start with initializing a variable `k` to 2, indicating the maximum allowed occurrences for each unique element.\n",
    "\n",
    "2. **Iterative Processing:** Traverse the array `nums` from index 2 onwards.\n",
    "\n",
    "3. **Duplicate Check:** Examine whether the current element at index `i` is distinct from the element at index `k - 2`. This comparison ensures that only two occurrences of each unique element are retained.\n",
    "\n",
    "4. **Update Unique Elements:** If the check in step 3 is true, update the array by placing the current unique element at the `k`-th position. This step effectively builds a modified array with at most two occurrences of each unique element.\n",
    "\n",
    "5. **Increment Counter (`k`):** Increment the counter `k` only if the condition in step 3 is true. This ensures that `k` is incremented only when a new distinct element is encountered, maintaining the correct length of the modified array.\n",
    "\n",
    "6. **Result:** The final value of `k` signifies the length of the modified array after eliminating duplicates, and the modified array retains the order of distinct elements."
   ]
  },
  {
   "cell_type": "code",
   "execution_count": 6,
   "metadata": {},
   "outputs": [],
   "source": [
    "class Solution:\n",
    "    def removeDuplicates(self, nums: List[int])->int:\n",
    "        k = 2\n",
    "        for i in range(2, len(nums)):\n",
    "            if nums[i] != nums[k-2]:\n",
    "                nums[k] = nums[i]\n",
    "                k+=1\n",
    "        return k"
   ]
  },
  {
   "cell_type": "code",
   "execution_count": 7,
   "metadata": {},
   "outputs": [
    {
     "name": "stdout",
     "output_type": "stream",
     "text": [
      "[0, 0, 1, 1, 2, 3, 3]\n"
     ]
    }
   ],
   "source": [
    "test()"
   ]
  },
  {
   "cell_type": "markdown",
   "metadata": {},
   "source": [
    "### Discussion\n",
    "\n",
    "The code above follows the \"Two-pointer sliding window\" technique to efficiently remove duplicate elements from the input array `nums`. This approach utilizes two pointers, `k` and `i`, for in-place array traversal and modification.\n",
    "\n",
    "Here's a breakdown of the logic:\n",
    "\n",
    "1. **Initialization** (`k = 2`): Start by initializing the variable `k` to 2. This variable acts as a counter, keeping track of the length of the modified array.\n",
    "\n",
    "2. **Loop Iteration** (`for i in range(2, len(nums))`): Iterate over the array `nums` starting from index 2. This loop helps to check each element against its previous one.\n",
    "3. **Comparison Check** (`if nums[i] != nums[k-2]`): Check if the current element at index `i` is distinct from the element two positions behind (at index `k-2`). This condition identifies when a new distinct element is encountered.\n",
    "\n",
    "4. **Element Assignment** (`nums[k] = nums[i]`): If the condition in step 3 is true, assign the current element at index `i` to the position `k` in the array. This effectively moves distinct elements to the front of the array.\n",
    "\n",
    "5. **Incrementing `k`** (`k += 1`): Increment the variable `k` only if the condition in step 3 is true, indicating the presence of a distinct element. This ensures accurate tracking of the modified array length.\n",
    "\n",
    "6. **Returning Length** (`return k`): After the loop, return the final value of `k`, representing the count of distinct elements in the array. The array itself is modified in place, and only unique elements are retained at the beginning.\n",
    "\n",
    "This approach efficiently handles the removal of duplicate elements, maintaining the order of unique elements in the modified array. The code provides a clear and concise solution to the problem."
   ]
  }
 ],
 "metadata": {
  "kernelspec": {
   "display_name": "Python 3",
   "language": "python",
   "name": "python3"
  },
  "language_info": {
   "codemirror_mode": {
    "name": "ipython",
    "version": 3
   },
   "file_extension": ".py",
   "mimetype": "text/x-python",
   "name": "python",
   "nbconvert_exporter": "python",
   "pygments_lexer": "ipython3",
   "version": "3.10.5"
  }
 },
 "nbformat": 4,
 "nbformat_minor": 2
}
