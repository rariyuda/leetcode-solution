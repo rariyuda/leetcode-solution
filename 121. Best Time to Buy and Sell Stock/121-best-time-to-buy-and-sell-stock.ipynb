{
 "cells": [
  {
   "cell_type": "markdown",
   "metadata": {},
   "source": [
    "### Question 121\n",
    "(https://leetcode.com/problems/best-time-to-buy-and-sell-stock/?envType=study-plan-v2&envId=top-interview-150)\n",
    "\n",
    "You are given an array `prices` where `prices[i]` is the price of a given stock on the `i-th` day.\n",
    "\n",
    "You want to maximize your profit by choosing a single day to buy one stock and choosing a different day in the future to sell that stock.\n",
    "\n",
    "Return the maximum profit you can achieve from this transaction. If you cannot achieve any profit, return `0`."
   ]
  },
  {
   "cell_type": "markdown",
   "metadata": {},
   "source": [
    "#### Example 1:\n",
    "```python\n",
    "Input: prices = [7,1,5,3,6,4]\n",
    "Output: 5\n",
    "Explanation: Buy on day 2 (price = 1) and sell on day 5 (price = 6), profit = 6-1 = 5.\n",
    "Note that buying on day 2 and selling on day 1 is not allowed because you must buy before you sell.\n",
    "```\n",
    "\n",
    "#### Example 2:\n",
    "```python\n",
    "Input: prices = [7,6,4,3,1]\n",
    "Output: 0\n",
    "Explanation: In this case, no transactions are done and the max profit = 0.\n",
    "```"
   ]
  },
  {
   "cell_type": "markdown",
   "metadata": {},
   "source": [
    "### Problem Analysis\n",
    "\n",
    "**Task:** Calculate the maximum profit that can be obtained from a sequence of stock prices.\n",
    "\n",
    "- The input consists of a list `prices` where each element represents the stock price on a given day.\n",
    "- The goal is to find the maximum profit that can be obtained by buying and selling the stock.\n",
    "\n",
    "**Approach:**\n",
    "- Use two variables: `candidate_buy` to keep track of the potential buying price and `max_profit` to store the maximum profit.\n",
    "- Iterate through the list of stock prices.\n",
    "  - If the current price is lower than the candidate buying price, update the candidate buying price to the current price.\n",
    "  - If the difference between the current price and the candidate buying price is greater than the current maximum profit, update the maximum profit.\n",
    "- The final value of `max_profit` represents the maximum profit achievable.\n",
    "\n",
    "**Pseudocode:**\n",
    "1. Initialize `candidate_buy` to positive infinity and `max_profit` to zero.\n",
    "2. Iterate through the list of stock prices.\n",
    "   - If the current price is lower than `candidate_buy`, update `candidate_buy` to the current price.\n",
    "   - If the difference between the current price and `candidate_buy` is greater than `max_profit`, update `max_profit`.\n",
    "3. The final value of `max_profit` represents the maximum profit achievable.\n",
    "\n",
    "**Example (prices = [7,1,5,3,6,4]):**\n",
    "- Iteration 1: `candidate_buy = 7`, `max_profit = 0`\n",
    "- Iteration 2: The current price is 1, which is less than the `candidate_buy` (7).\n",
    "    Update `candidate_buy` to 1, `max_profit` remains 0\n",
    "- Iteration 3: `candidate_buy` remains 1, `max_profit` updated to 4 (5 - 1)\n",
    "- Iteration 4: `candidate_buy` remains 1, `max_profit` remains 4\n",
    "- Iteration 5: `candidate_buy` remains 1, `max_profit` updated to 5 (6 - 1)\n",
    "- Iteration 6: `candidate_buy` remains 1, `max_profit` remains 5\n",
    "\n",
    "The maximum profit is 5, achieved by buying at 1 and selling at 6."
   ]
  },
  {
   "cell_type": "code",
   "execution_count": 1,
   "metadata": {},
   "outputs": [],
   "source": [
    "from typing import List\n",
    "class Solution:\n",
    "    def maxProfit(self, prices: List[int]) -> int:\n",
    "        candidate_buy = float('inf')\n",
    "        max_profit = 0\n",
    "\n",
    "        for price in prices:\n",
    "            if price < candidate_buy: \n",
    "                candidate_buy = price\n",
    "            elif price - candidate_buy > max_profit:\n",
    "                max_profit = price - candidate_buy\n",
    "\n",
    "        return max_profit"
   ]
  },
  {
   "cell_type": "code",
   "execution_count": 2,
   "metadata": {},
   "outputs": [],
   "source": [
    "def test():\n",
    "    prices = [7,1,5,3,6,4]\n",
    "    solution = Solution()\n",
    "    max_profit = solution.maxProfit(prices)\n",
    "    print(prices,\"->\",max_profit)"
   ]
  },
  {
   "cell_type": "code",
   "execution_count": 3,
   "metadata": {},
   "outputs": [
    {
     "name": "stdout",
     "output_type": "stream",
     "text": [
      "[7, 1, 5, 3, 6, 4] -> 5\n"
     ]
    }
   ],
   "source": [
    "test()"
   ]
  },
  {
   "cell_type": "markdown",
   "metadata": {},
   "source": [
    "### Discussion\n",
    "\n",
    "The provided code implements a solution to the problem of finding the maximum profit that can be obtained from a sequence of stock prices. The approach involves iterating through the list of prices while keeping track of the potential buying price (`candidate_buy`) and updating the maximum profit (`max_profit`) accordingly.\n",
    "\n",
    "#### Key Steps:\n",
    "\n",
    "1. **Initialization:**\n",
    "   - Initialize `candidate_buy` to positive infinity. This variable represents the potential buying price, and starting with infinity ensures it gets updated with the first actual stock price.\n",
    "   - Initialize `max_profit` to zero. This variable tracks the maximum profit that can be obtained.\n",
    "\n",
    "2. **Iteration through Prices:**\n",
    "   - Iterate through the list of stock prices.\n",
    "   - If the current price is less than the current `candidate_buy`, update `candidate_buy` to the current price. This signifies a potential buying opportunity.\n",
    "   - If the difference between the current price and the `candidate_buy` is greater than the current `max_profit`, update `max_profit`. This ensures that the algorithm captures the maximum profit achievable.\n",
    "\n",
    "3. **Returning Result:**\n",
    "   - The final value of `max_profit` represents the maximum profit that can be obtained from buying and selling the stock.\n",
    "\n",
    "#### Example:\n",
    "   - For instance, with `prices = [7, 1, 5, 3, 6, 4]`, the algorithm iterates through the prices.\n",
    "   - It identifies a potential buying opportunity at 1, and later, the maximum profit is achieved by buying at 1 and selling at 6, resulting in a profit of 5.\n",
    "\n",
    "This implementation provides a clear and efficient solution to the problem of finding the maximum profit from a sequence of stock prices. The algorithm ensures that buying and selling decisions are made optimally to maximize the profit."
   ]
  }
 ],
 "metadata": {
  "kernelspec": {
   "display_name": "Python 3",
   "language": "python",
   "name": "python3"
  },
  "language_info": {
   "codemirror_mode": {
    "name": "ipython",
    "version": 3
   },
   "file_extension": ".py",
   "mimetype": "text/x-python",
   "name": "python",
   "nbconvert_exporter": "python",
   "pygments_lexer": "ipython3",
   "version": "3.10.5"
  }
 },
 "nbformat": 4,
 "nbformat_minor": 2
}
